{
 "cells": [
  {
   "cell_type": "markdown",
   "metadata": {},
   "source": [
    "# Data Audit\n",
    "\n",
    "This script looks at how many missing values each feature has, how many unique values the categorical features have then applies preprocessing steps to remove outliers and drop features with too many missing values."
   ]
  },
  {
   "cell_type": "code",
   "execution_count": 1,
   "metadata": {},
   "outputs": [],
   "source": [
    "import numpy as np\n",
    "import pandas as pd\n",
    "import os\n",
    "import json\n",
    "import matplotlib.pyplot as plt"
   ]
  },
  {
   "cell_type": "code",
   "execution_count": 2,
   "metadata": {},
   "outputs": [],
   "source": [
    "# set variables from config file\n",
    "config_path = os.path.abspath('..')\n",
    "\n",
    "with open(config_path + '\\config-example.json', 'r') as f:\n",
    "    config = json.load(f)\n",
    "\n",
    "dataset_audited_fname = config['DEFAULT']['dataset_audited_fname']\n",
    "dataset_sampled_fname = config['DEFAULT']['dataset_sampled_fname']\n",
    "processing_path = config['DEFAULT']['processing_path']\n",
    "dataset_fname_suffix = config['DEFAULT']['dataset_fname_suffix']"
   ]
  },
  {
   "cell_type": "code",
   "execution_count": null,
   "metadata": {},
   "outputs": [],
   "source": [
    "client_data = pd.read_csv(os.path.join(processing_path,dataset_sampled_fname) + dataset_fname_suffix, header = 0, delimiter = ',',)"
   ]
  },
  {
   "cell_type": "code",
   "execution_count": 4,
   "metadata": {},
   "outputs": [],
   "source": [
    "# Change the timestamp to date format and set it as index\n",
    "client_data['StartDate'] = pd.to_datetime(client_data['StartDate'], infer_datetime_format=True)\n",
    "client_data['StatusCreatedDate'] = pd.to_datetime(client_data['StatusCreatedDate'], errors='coerce')\n",
    "\n"
   ]
  },
  {
   "cell_type": "code",
   "execution_count": 5,
   "metadata": {},
   "outputs": [],
   "source": [
    "client_data['StartYear'] = client_data['StartDate'].dt.year"
   ]
  },
  {
   "cell_type": "code",
   "execution_count": 6,
   "metadata": {},
   "outputs": [],
   "source": [
    "client_data['StatusCreatedYear'] = client_data['StatusCreatedDate'].dt.year"
   ]
  },
  {
   "cell_type": "code",
   "execution_count": 7,
   "metadata": {},
   "outputs": [],
   "source": [
    "# data['StartYear'] = data['StartDate'].dt.year\n",
    "# data['StartMonth'] = data['StartDate'].dt.month\n",
    "# data['StatusCreatedYear'] = data['StatusCreatedDate'].dt.year\n",
    "# data['StatusCreatedMonth'] = data['StatusCreatedDate'].dt.month\n",
    "# data['StartWeek'] = data['StartDate'].dt.isocalendar().week\n",
    "# data['StatusCreatedWeek'] = data['StatusCreatedDate'].dt.isocalendar().week"
   ]
  },
  {
   "cell_type": "code",
   "execution_count": 8,
   "metadata": {},
   "outputs": [
    {
     "data": {
      "text/plain": [
       "2019    0.285487\n",
       "2018    0.284479\n",
       "2022    0.170003\n",
       "2020    0.136142\n",
       "2021    0.103659\n",
       "2017    0.020202\n",
       "2023    0.000027\n",
       "Name: StartYear, dtype: float64"
      ]
     },
     "execution_count": 8,
     "metadata": {},
     "output_type": "execute_result"
    }
   ],
   "source": [
    "client_data['StartYear'].value_counts(normalize=True)"
   ]
  },
  {
   "cell_type": "code",
   "execution_count": 9,
   "metadata": {},
   "outputs": [
    {
     "data": {
      "text/plain": [
       "2019.0    0.287286\n",
       "2018.0    0.275106\n",
       "2022.0    0.160624\n",
       "2020.0    0.138153\n",
       "2021.0    0.113048\n",
       "2017.0    0.025764\n",
       "2023.0    0.000018\n",
       "Name: StatusCreatedYear, dtype: float64"
      ]
     },
     "execution_count": 9,
     "metadata": {},
     "output_type": "execute_result"
    }
   ],
   "source": [
    "client_data['StatusCreatedYear'].value_counts(normalize=True)"
   ]
  },
  {
   "cell_type": "code",
   "execution_count": 10,
   "metadata": {},
   "outputs": [
    {
     "name": "stdout",
     "output_type": "stream",
     "text": [
      "658446\n"
     ]
    }
   ],
   "source": [
    "print(len(client_data))"
   ]
  },
  {
   "cell_type": "code",
   "execution_count": 11,
   "metadata": {},
   "outputs": [
    {
     "data": {
      "text/html": [
       "<div>\n",
       "<style scoped>\n",
       "    .dataframe tbody tr th:only-of-type {\n",
       "        vertical-align: middle;\n",
       "    }\n",
       "\n",
       "    .dataframe tbody tr th {\n",
       "        vertical-align: top;\n",
       "    }\n",
       "\n",
       "    .dataframe thead th {\n",
       "        text-align: right;\n",
       "    }\n",
       "</style>\n",
       "<table border=\"1\" class=\"dataframe\">\n",
       "  <thead>\n",
       "    <tr style=\"text-align: right;\">\n",
       "      <th></th>\n",
       "      <th>EventName</th>\n",
       "      <th>StartDate</th>\n",
       "      <th>EventType</th>\n",
       "      <th>BookingReference</th>\n",
       "      <th>AttendeeReference</th>\n",
       "      <th>GroupSize</th>\n",
       "      <th>IsLeadAttendee</th>\n",
       "      <th>AttendeeGrossCost</th>\n",
       "      <th>EventId</th>\n",
       "      <th>BookingStatus</th>\n",
       "      <th>AttendeeType</th>\n",
       "      <th>TicketType</th>\n",
       "      <th>StatusCreatedDate</th>\n",
       "      <th>ClientId</th>\n",
       "      <th>StartYear</th>\n",
       "      <th>StatusCreatedYear</th>\n",
       "    </tr>\n",
       "  </thead>\n",
       "  <tbody>\n",
       "    <tr>\n",
       "      <th>0</th>\n",
       "      <td>Developing Reading and Writing Skills</td>\n",
       "      <td>2017-11-28</td>\n",
       "      <td>Others, Group 1</td>\n",
       "      <td>B462687</td>\n",
       "      <td>A514297</td>\n",
       "      <td>1</td>\n",
       "      <td>True</td>\n",
       "      <td>0.0</td>\n",
       "      <td>14983</td>\n",
       "      <td>Attending</td>\n",
       "      <td>Attendee</td>\n",
       "      <td>NaN</td>\n",
       "      <td>2017-11-11 09:15:00</td>\n",
       "      <td>153.0</td>\n",
       "      <td>2017</td>\n",
       "      <td>2017.0</td>\n",
       "    </tr>\n",
       "    <tr>\n",
       "      <th>1</th>\n",
       "      <td>Teaching Grammar: Classroom choices</td>\n",
       "      <td>2017-12-13</td>\n",
       "      <td>Others, Group 1</td>\n",
       "      <td>B462689</td>\n",
       "      <td>A514299</td>\n",
       "      <td>1</td>\n",
       "      <td>True</td>\n",
       "      <td>0.0</td>\n",
       "      <td>14960</td>\n",
       "      <td>Attending</td>\n",
       "      <td>Attendee</td>\n",
       "      <td>NaN</td>\n",
       "      <td>2017-11-11 09:18:00</td>\n",
       "      <td>153.0</td>\n",
       "      <td>2017</td>\n",
       "      <td>2017.0</td>\n",
       "    </tr>\n",
       "    <tr>\n",
       "      <th>2</th>\n",
       "      <td>Teaching Grammar: Classroom choices</td>\n",
       "      <td>2017-12-13</td>\n",
       "      <td>Others, Group 1</td>\n",
       "      <td>B467150</td>\n",
       "      <td>A519135</td>\n",
       "      <td>1</td>\n",
       "      <td>True</td>\n",
       "      <td>0.0</td>\n",
       "      <td>14960</td>\n",
       "      <td>Attending</td>\n",
       "      <td>Attendee</td>\n",
       "      <td>NaN</td>\n",
       "      <td>2017-11-22 17:02:00</td>\n",
       "      <td>153.0</td>\n",
       "      <td>2017</td>\n",
       "      <td>2017.0</td>\n",
       "    </tr>\n",
       "    <tr>\n",
       "      <th>3</th>\n",
       "      <td>Academic vocabulary: what do students need to ...</td>\n",
       "      <td>2018-04-19</td>\n",
       "      <td>Others, Group 2</td>\n",
       "      <td>B533234</td>\n",
       "      <td>A588469</td>\n",
       "      <td>1</td>\n",
       "      <td>True</td>\n",
       "      <td>0.0</td>\n",
       "      <td>15893</td>\n",
       "      <td>Attending</td>\n",
       "      <td>Attendee</td>\n",
       "      <td>NaN</td>\n",
       "      <td>2018-11-04 13:38:00</td>\n",
       "      <td>153.0</td>\n",
       "      <td>2018</td>\n",
       "      <td>2018.0</td>\n",
       "    </tr>\n",
       "    <tr>\n",
       "      <th>4</th>\n",
       "      <td>Researching the classroom</td>\n",
       "      <td>2018-11-14</td>\n",
       "      <td>Others, Group 4</td>\n",
       "      <td>B604614</td>\n",
       "      <td>A662691</td>\n",
       "      <td>1</td>\n",
       "      <td>True</td>\n",
       "      <td>0.0</td>\n",
       "      <td>17350</td>\n",
       "      <td>Attending</td>\n",
       "      <td>Attendee</td>\n",
       "      <td>NaN</td>\n",
       "      <td>2018-10-15 14:33:00</td>\n",
       "      <td>153.0</td>\n",
       "      <td>2018</td>\n",
       "      <td>2018.0</td>\n",
       "    </tr>\n",
       "  </tbody>\n",
       "</table>\n",
       "</div>"
      ],
      "text/plain": [
       "                                           EventName  StartDate  \\\n",
       "0              Developing Reading and Writing Skills 2017-11-28   \n",
       "1                Teaching Grammar: Classroom choices 2017-12-13   \n",
       "2                Teaching Grammar: Classroom choices 2017-12-13   \n",
       "3  Academic vocabulary: what do students need to ... 2018-04-19   \n",
       "4                          Researching the classroom 2018-11-14   \n",
       "\n",
       "         EventType BookingReference AttendeeReference  GroupSize  \\\n",
       "0  Others, Group 1          B462687           A514297          1   \n",
       "1  Others, Group 1          B462689           A514299          1   \n",
       "2  Others, Group 1          B467150           A519135          1   \n",
       "3  Others, Group 2          B533234           A588469          1   \n",
       "4  Others, Group 4          B604614           A662691          1   \n",
       "\n",
       "  IsLeadAttendee  AttendeeGrossCost  EventId BookingStatus AttendeeType  \\\n",
       "0           True                0.0    14983     Attending     Attendee   \n",
       "1           True                0.0    14960     Attending     Attendee   \n",
       "2           True                0.0    14960     Attending     Attendee   \n",
       "3           True                0.0    15893     Attending     Attendee   \n",
       "4           True                0.0    17350     Attending     Attendee   \n",
       "\n",
       "  TicketType   StatusCreatedDate  ClientId  StartYear  StatusCreatedYear  \n",
       "0        NaN 2017-11-11 09:15:00     153.0       2017             2017.0  \n",
       "1        NaN 2017-11-11 09:18:00     153.0       2017             2017.0  \n",
       "2        NaN 2017-11-22 17:02:00     153.0       2017             2017.0  \n",
       "3        NaN 2018-11-04 13:38:00     153.0       2018             2018.0  \n",
       "4        NaN 2018-10-15 14:33:00     153.0       2018             2018.0  "
      ]
     },
     "execution_count": 11,
     "metadata": {},
     "output_type": "execute_result"
    }
   ],
   "source": [
    "client_data.head()"
   ]
  },
  {
   "cell_type": "markdown",
   "metadata": {},
   "source": [
    "### Investigate categoric and numeric fields"
   ]
  },
  {
   "cell_type": "code",
   "execution_count": 12,
   "metadata": {},
   "outputs": [],
   "source": [
    "# Get numeric and categorical variable names\n",
    "var_list_num = client_data.select_dtypes(include= 'number').columns.tolist()\n",
    "var_list_num.remove('ClientId')\n",
    "\n",
    "var_list_cat = client_data.select_dtypes(include = ['object', 'category']).columns.tolist()"
   ]
  },
  {
   "cell_type": "code",
   "execution_count": 13,
   "metadata": {},
   "outputs": [
    {
     "data": {
      "text/plain": [
       "StatusCreatedYear    0.000003\n",
       "GroupSize            0.000000\n",
       "AttendeeGrossCost    0.000000\n",
       "EventId              0.000000\n",
       "StartYear            0.000000\n",
       "dtype: float64"
      ]
     },
     "execution_count": 13,
     "metadata": {},
     "output_type": "execute_result"
    }
   ],
   "source": [
    "# Percentage of missing values in numeric fields\n",
    "client_data[var_list_num].isnull().sum().sort_values(ascending=False) / client_data.shape[0]"
   ]
  },
  {
   "cell_type": "markdown",
   "metadata": {},
   "source": [
    "DROP nothing."
   ]
  },
  {
   "cell_type": "code",
   "execution_count": 14,
   "metadata": {},
   "outputs": [
    {
     "data": {
      "text/html": [
       "<div>\n",
       "<style scoped>\n",
       "    .dataframe tbody tr th:only-of-type {\n",
       "        vertical-align: middle;\n",
       "    }\n",
       "\n",
       "    .dataframe tbody tr th {\n",
       "        vertical-align: top;\n",
       "    }\n",
       "\n",
       "    .dataframe thead th {\n",
       "        text-align: right;\n",
       "    }\n",
       "</style>\n",
       "<table border=\"1\" class=\"dataframe\">\n",
       "  <thead>\n",
       "    <tr style=\"text-align: right;\">\n",
       "      <th></th>\n",
       "      <th>GroupSize</th>\n",
       "      <th>AttendeeGrossCost</th>\n",
       "      <th>EventId</th>\n",
       "      <th>StartYear</th>\n",
       "      <th>StatusCreatedYear</th>\n",
       "    </tr>\n",
       "  </thead>\n",
       "  <tbody>\n",
       "    <tr>\n",
       "      <th>count</th>\n",
       "      <td>658446.000000</td>\n",
       "      <td>658446.000000</td>\n",
       "      <td>658446.000000</td>\n",
       "      <td>658446.000000</td>\n",
       "      <td>658444.000000</td>\n",
       "    </tr>\n",
       "    <tr>\n",
       "      <th>mean</th>\n",
       "      <td>1.013389</td>\n",
       "      <td>0.908920</td>\n",
       "      <td>20528.085304</td>\n",
       "      <td>2019.528696</td>\n",
       "      <td>2019.519561</td>\n",
       "    </tr>\n",
       "    <tr>\n",
       "      <th>std</th>\n",
       "      <td>0.200668</td>\n",
       "      <td>74.082132</td>\n",
       "      <td>3707.289450</td>\n",
       "      <td>1.472079</td>\n",
       "      <td>1.464403</td>\n",
       "    </tr>\n",
       "    <tr>\n",
       "      <th>min</th>\n",
       "      <td>0.000000</td>\n",
       "      <td>0.000000</td>\n",
       "      <td>0.000000</td>\n",
       "      <td>2017.000000</td>\n",
       "      <td>2017.000000</td>\n",
       "    </tr>\n",
       "    <tr>\n",
       "      <th>25%</th>\n",
       "      <td>1.000000</td>\n",
       "      <td>0.000000</td>\n",
       "      <td>17028.000000</td>\n",
       "      <td>2018.000000</td>\n",
       "      <td>2018.000000</td>\n",
       "    </tr>\n",
       "    <tr>\n",
       "      <th>50%</th>\n",
       "      <td>1.000000</td>\n",
       "      <td>0.000000</td>\n",
       "      <td>20051.000000</td>\n",
       "      <td>2019.000000</td>\n",
       "      <td>2019.000000</td>\n",
       "    </tr>\n",
       "    <tr>\n",
       "      <th>75%</th>\n",
       "      <td>1.000000</td>\n",
       "      <td>0.000000</td>\n",
       "      <td>24644.000000</td>\n",
       "      <td>2021.000000</td>\n",
       "      <td>2021.000000</td>\n",
       "    </tr>\n",
       "    <tr>\n",
       "      <th>90%</th>\n",
       "      <td>1.000000</td>\n",
       "      <td>0.000000</td>\n",
       "      <td>25662.000000</td>\n",
       "      <td>2022.000000</td>\n",
       "      <td>2022.000000</td>\n",
       "    </tr>\n",
       "    <tr>\n",
       "      <th>95%</th>\n",
       "      <td>1.000000</td>\n",
       "      <td>0.000000</td>\n",
       "      <td>26092.000000</td>\n",
       "      <td>2022.000000</td>\n",
       "      <td>2022.000000</td>\n",
       "    </tr>\n",
       "    <tr>\n",
       "      <th>99%</th>\n",
       "      <td>1.000000</td>\n",
       "      <td>0.000000</td>\n",
       "      <td>26412.000000</td>\n",
       "      <td>2022.000000</td>\n",
       "      <td>2022.000000</td>\n",
       "    </tr>\n",
       "    <tr>\n",
       "      <th>max</th>\n",
       "      <td>12.000000</td>\n",
       "      <td>41295.000000</td>\n",
       "      <td>27560.000000</td>\n",
       "      <td>2023.000000</td>\n",
       "      <td>2023.000000</td>\n",
       "    </tr>\n",
       "  </tbody>\n",
       "</table>\n",
       "</div>"
      ],
      "text/plain": [
       "           GroupSize  AttendeeGrossCost        EventId      StartYear  \\\n",
       "count  658446.000000      658446.000000  658446.000000  658446.000000   \n",
       "mean        1.013389           0.908920   20528.085304    2019.528696   \n",
       "std         0.200668          74.082132    3707.289450       1.472079   \n",
       "min         0.000000           0.000000       0.000000    2017.000000   \n",
       "25%         1.000000           0.000000   17028.000000    2018.000000   \n",
       "50%         1.000000           0.000000   20051.000000    2019.000000   \n",
       "75%         1.000000           0.000000   24644.000000    2021.000000   \n",
       "90%         1.000000           0.000000   25662.000000    2022.000000   \n",
       "95%         1.000000           0.000000   26092.000000    2022.000000   \n",
       "99%         1.000000           0.000000   26412.000000    2022.000000   \n",
       "max        12.000000       41295.000000   27560.000000    2023.000000   \n",
       "\n",
       "       StatusCreatedYear  \n",
       "count      658444.000000  \n",
       "mean         2019.519561  \n",
       "std             1.464403  \n",
       "min          2017.000000  \n",
       "25%          2018.000000  \n",
       "50%          2019.000000  \n",
       "75%          2021.000000  \n",
       "90%          2022.000000  \n",
       "95%          2022.000000  \n",
       "99%          2022.000000  \n",
       "max          2023.000000  "
      ]
     },
     "execution_count": 14,
     "metadata": {},
     "output_type": "execute_result"
    }
   ],
   "source": [
    "audit_num = client_data[var_list_num].describe(percentiles=[0.25,0.5,0.75,0.9,0.95,0.99])\n",
    "audit_num"
   ]
  },
  {
   "cell_type": "code",
   "execution_count": 15,
   "metadata": {},
   "outputs": [
    {
     "data": {
      "text/plain": [
       "TicketType           0.747177\n",
       "EventName            0.000000\n",
       "EventType            0.000000\n",
       "BookingReference     0.000000\n",
       "AttendeeReference    0.000000\n",
       "IsLeadAttendee       0.000000\n",
       "BookingStatus        0.000000\n",
       "AttendeeType         0.000000\n",
       "dtype: float64"
      ]
     },
     "execution_count": 15,
     "metadata": {},
     "output_type": "execute_result"
    }
   ],
   "source": [
    "# Percentage of missing values in categoric fields\n",
    "client_data[var_list_cat].isnull().sum().sort_values(ascending= False) / client_data.shape[0]"
   ]
  },
  {
   "cell_type": "markdown",
   "metadata": {},
   "source": [
    "Drop TicketType due to high percentage of missing values."
   ]
  },
  {
   "cell_type": "markdown",
   "metadata": {},
   "source": [
    "### Drop unwanted fields"
   ]
  },
  {
   "cell_type": "code",
   "execution_count": 16,
   "metadata": {},
   "outputs": [],
   "source": [
    "client_data.drop(['TicketType'], axis=1, inplace= True)     # Dropping ticketype"
   ]
  },
  {
   "cell_type": "code",
   "execution_count": 17,
   "metadata": {},
   "outputs": [
    {
     "name": "stdout",
     "output_type": "stream",
     "text": [
      "<class 'pandas.core.frame.DataFrame'>\n",
      "RangeIndex: 658446 entries, 0 to 658445\n",
      "Data columns (total 15 columns):\n",
      " #   Column             Non-Null Count   Dtype         \n",
      "---  ------             --------------   -----         \n",
      " 0   EventName          658446 non-null  object        \n",
      " 1   StartDate          658446 non-null  datetime64[ns]\n",
      " 2   EventType          658446 non-null  object        \n",
      " 3   BookingReference   658446 non-null  object        \n",
      " 4   AttendeeReference  658446 non-null  object        \n",
      " 5   GroupSize          658446 non-null  int64         \n",
      " 6   IsLeadAttendee     658446 non-null  object        \n",
      " 7   AttendeeGrossCost  658446 non-null  float64       \n",
      " 8   EventId            658446 non-null  int64         \n",
      " 9   BookingStatus      658446 non-null  object        \n",
      " 10  AttendeeType       658446 non-null  object        \n",
      " 11  StatusCreatedDate  658444 non-null  datetime64[ns]\n",
      " 12  ClientId           658446 non-null  float64       \n",
      " 13  StartYear          658446 non-null  int64         \n",
      " 14  StatusCreatedYear  658444 non-null  float64       \n",
      "dtypes: datetime64[ns](2), float64(3), int64(3), object(7)\n",
      "memory usage: 75.4+ MB\n"
     ]
    }
   ],
   "source": [
    "client_data.info()"
   ]
  },
  {
   "cell_type": "code",
   "execution_count": 18,
   "metadata": {},
   "outputs": [
    {
     "data": {
      "text/html": [
       "<div>\n",
       "<style scoped>\n",
       "    .dataframe tbody tr th:only-of-type {\n",
       "        vertical-align: middle;\n",
       "    }\n",
       "\n",
       "    .dataframe tbody tr th {\n",
       "        vertical-align: top;\n",
       "    }\n",
       "\n",
       "    .dataframe thead th {\n",
       "        text-align: right;\n",
       "    }\n",
       "</style>\n",
       "<table border=\"1\" class=\"dataframe\">\n",
       "  <thead>\n",
       "    <tr style=\"text-align: right;\">\n",
       "      <th></th>\n",
       "      <th>EventName</th>\n",
       "      <th>StartDate</th>\n",
       "      <th>EventType</th>\n",
       "      <th>BookingReference</th>\n",
       "      <th>AttendeeReference</th>\n",
       "      <th>GroupSize</th>\n",
       "      <th>IsLeadAttendee</th>\n",
       "      <th>AttendeeGrossCost</th>\n",
       "      <th>EventId</th>\n",
       "      <th>BookingStatus</th>\n",
       "      <th>AttendeeType</th>\n",
       "      <th>StatusCreatedDate</th>\n",
       "      <th>ClientId</th>\n",
       "      <th>StartYear</th>\n",
       "      <th>StatusCreatedYear</th>\n",
       "    </tr>\n",
       "  </thead>\n",
       "  <tbody>\n",
       "    <tr>\n",
       "      <th>0</th>\n",
       "      <td>Developing Reading and Writing Skills</td>\n",
       "      <td>2017-11-28</td>\n",
       "      <td>Others, Group 1</td>\n",
       "      <td>B462687</td>\n",
       "      <td>A514297</td>\n",
       "      <td>1</td>\n",
       "      <td>True</td>\n",
       "      <td>0.0</td>\n",
       "      <td>14983</td>\n",
       "      <td>Attending</td>\n",
       "      <td>Attendee</td>\n",
       "      <td>2017-11-11 09:15:00</td>\n",
       "      <td>153.0</td>\n",
       "      <td>2017</td>\n",
       "      <td>2017.0</td>\n",
       "    </tr>\n",
       "    <tr>\n",
       "      <th>1</th>\n",
       "      <td>Teaching Grammar: Classroom choices</td>\n",
       "      <td>2017-12-13</td>\n",
       "      <td>Others, Group 1</td>\n",
       "      <td>B462689</td>\n",
       "      <td>A514299</td>\n",
       "      <td>1</td>\n",
       "      <td>True</td>\n",
       "      <td>0.0</td>\n",
       "      <td>14960</td>\n",
       "      <td>Attending</td>\n",
       "      <td>Attendee</td>\n",
       "      <td>2017-11-11 09:18:00</td>\n",
       "      <td>153.0</td>\n",
       "      <td>2017</td>\n",
       "      <td>2017.0</td>\n",
       "    </tr>\n",
       "    <tr>\n",
       "      <th>2</th>\n",
       "      <td>Teaching Grammar: Classroom choices</td>\n",
       "      <td>2017-12-13</td>\n",
       "      <td>Others, Group 1</td>\n",
       "      <td>B467150</td>\n",
       "      <td>A519135</td>\n",
       "      <td>1</td>\n",
       "      <td>True</td>\n",
       "      <td>0.0</td>\n",
       "      <td>14960</td>\n",
       "      <td>Attending</td>\n",
       "      <td>Attendee</td>\n",
       "      <td>2017-11-22 17:02:00</td>\n",
       "      <td>153.0</td>\n",
       "      <td>2017</td>\n",
       "      <td>2017.0</td>\n",
       "    </tr>\n",
       "  </tbody>\n",
       "</table>\n",
       "</div>"
      ],
      "text/plain": [
       "                               EventName  StartDate        EventType  \\\n",
       "0  Developing Reading and Writing Skills 2017-11-28  Others, Group 1   \n",
       "1    Teaching Grammar: Classroom choices 2017-12-13  Others, Group 1   \n",
       "2    Teaching Grammar: Classroom choices 2017-12-13  Others, Group 1   \n",
       "\n",
       "  BookingReference AttendeeReference  GroupSize IsLeadAttendee  \\\n",
       "0          B462687           A514297          1           True   \n",
       "1          B462689           A514299          1           True   \n",
       "2          B467150           A519135          1           True   \n",
       "\n",
       "   AttendeeGrossCost  EventId BookingStatus AttendeeType   StatusCreatedDate  \\\n",
       "0                0.0    14983     Attending     Attendee 2017-11-11 09:15:00   \n",
       "1                0.0    14960     Attending     Attendee 2017-11-11 09:18:00   \n",
       "2                0.0    14960     Attending     Attendee 2017-11-22 17:02:00   \n",
       "\n",
       "   ClientId  StartYear  StatusCreatedYear  \n",
       "0     153.0       2017             2017.0  \n",
       "1     153.0       2017             2017.0  \n",
       "2     153.0       2017             2017.0  "
      ]
     },
     "execution_count": 18,
     "metadata": {},
     "output_type": "execute_result"
    }
   ],
   "source": [
    "client_data.head(3)"
   ]
  },
  {
   "cell_type": "markdown",
   "metadata": {},
   "source": [
    "### Export datasets"
   ]
  },
  {
   "cell_type": "code",
   "execution_count": 19,
   "metadata": {},
   "outputs": [],
   "source": [
    "# export\n",
    "client_data.to_csv(os.path.join(processing_path,dataset_audited_fname) + dataset_fname_suffix,index = False)"
   ]
  }
 ],
 "metadata": {
  "kernelspec": {
   "display_name": "Python 3.10.4 ('elec')",
   "language": "python",
   "name": "python3"
  },
  "language_info": {
   "codemirror_mode": {
    "name": "ipython",
    "version": 3
   },
   "file_extension": ".py",
   "mimetype": "text/x-python",
   "name": "python",
   "nbconvert_exporter": "python",
   "pygments_lexer": "ipython3",
   "version": "3.10.4"
  },
  "orig_nbformat": 4,
  "vscode": {
   "interpreter": {
    "hash": "a03df1490dae5edca8350f1d64d7f189571412bea11a20357ccabc9e7f68ebdc"
   }
  }
 },
 "nbformat": 4,
 "nbformat_minor": 2
}
