{
 "cells": [
  {
   "cell_type": "markdown",
   "metadata": {},
   "source": [
    "# Correlations and Chi squared\n",
    "\n",
    "This script finds the correlations between numerical features of the data and performs a chi-squared test on all data variables"
   ]
  },
  {
   "cell_type": "code",
   "execution_count": 1,
   "metadata": {},
   "outputs": [],
   "source": [
    "import numpy as np\n",
    "import pandas as pd\n",
    "import datetime\n",
    "import os\n",
    "import glob\n",
    "import json\n",
    "import scipy.stats as stats\n",
    "import matplotlib.pyplot as plt\n",
    "import seaborn as sns"
   ]
  },
  {
   "cell_type": "code",
   "execution_count": 2,
   "metadata": {},
   "outputs": [],
   "source": [
    "# set variables from config file\n",
    "config_path = os.path.abspath('..')\n",
    "\n",
    "with open(config_path + '\\config-example.json', 'r') as f:\n",
    "    config = json.load(f)\n",
    "\n",
    "dataset_audited_fname = config['DEFAULT']['dataset_audited_fname']\n",
    "processing_path = config['DEFAULT']['processing_path']\n",
    "dataset_fname_suffix = config['DEFAULT']['dataset_fname_suffix']"
   ]
  },
  {
   "cell_type": "code",
   "execution_count": null,
   "metadata": {},
   "outputs": [],
   "source": [
    "client_data = pd.read_csv(os.path.join(processing_path,dataset_audited_fname) + dataset_fname_suffix, header = 0, delimiter = ',',)"
   ]
  },
  {
   "cell_type": "code",
   "execution_count": 4,
   "metadata": {},
   "outputs": [
    {
     "name": "stdout",
     "output_type": "stream",
     "text": [
      "<class 'pandas.core.frame.DataFrame'>\n",
      "RangeIndex: 658446 entries, 0 to 658445\n",
      "Data columns (total 15 columns):\n",
      " #   Column             Non-Null Count   Dtype  \n",
      "---  ------             --------------   -----  \n",
      " 0   EventName          658446 non-null  object \n",
      " 1   StartDate          658446 non-null  object \n",
      " 2   EventType          658446 non-null  object \n",
      " 3   BookingReference   658446 non-null  object \n",
      " 4   AttendeeReference  658446 non-null  object \n",
      " 5   GroupSize          658446 non-null  int64  \n",
      " 6   IsLeadAttendee     658446 non-null  object \n",
      " 7   AttendeeGrossCost  658446 non-null  float64\n",
      " 8   EventId            658446 non-null  int64  \n",
      " 9   BookingStatus      658446 non-null  object \n",
      " 10  AttendeeType       658446 non-null  object \n",
      " 11  StatusCreatedDate  658444 non-null  object \n",
      " 12  ClientId           658446 non-null  float64\n",
      " 13  StartYear          658446 non-null  int64  \n",
      " 14  StatusCreatedYear  658444 non-null  float64\n",
      "dtypes: float64(3), int64(3), object(9)\n",
      "memory usage: 75.4+ MB\n"
     ]
    }
   ],
   "source": [
    "client_data.info()"
   ]
  },
  {
   "cell_type": "code",
   "execution_count": 5,
   "metadata": {},
   "outputs": [],
   "source": [
    "# numeric\n",
    "var_list_num = client_data.select_dtypes(include='number').columns.tolist()\n",
    "\n",
    "# Categorical\n",
    "var_list_cat = client_data.select_dtypes(include = ['object', 'category']).columns.tolist()"
   ]
  },
  {
   "cell_type": "code",
   "execution_count": null,
   "metadata": {},
   "outputs": [],
   "source": [
    "# Correlation \n",
    "corr_client_data_all = client_data[var_list_num].corr()\n",
    "\n",
    "# plot correlations\n",
    "corr_client_data_all = round(corr_client_data_all,2)\n",
    "mask = np.zeros_like(corr_client_data_all, dtype=np.bool)\n",
    "mask[np.triu_indices_from(mask)] = True\n",
    "f, ax = plt.subplots(figsize=(11,9))\n",
    "sns.heatmap(corr_client_data_all, mask=mask, cmap='RdYlGn', vmin = -1, vmax=1, center=0, square=True, linewidths=.5, cbar_kws={\"shrink\": .5}, annot=True)\n",
    "plt.show()"
   ]
  },
  {
   "cell_type": "markdown",
   "metadata": {},
   "source": [
    "### Categorical features Chi-Squared test of independence between variables in taxonomy\n",
    "if Chi-squared > crit_value reject the null hypothesis that there is no relationship between both variables.\n",
    "\n",
    "Uplift is a measure of the uplift between the chi squared metric and the critical value (I am assuming that the larger the uplift. The stronger the relastionship between the features."
   ]
  },
  {
   "cell_type": "code",
   "execution_count": 7,
   "metadata": {},
   "outputs": [
    {
     "name": "stdout",
     "output_type": "stream",
     "text": [
      "\n",
      "Results for EventName and StartDate\n",
      "\tChi-squared:\t826353757.2026279\n",
      "\tP-value:\t0.0\n",
      "\tDoF:\t\t2492478\n",
      "\tCrit-value:\t2496151.603841948\n",
      "\tUplift:\t\t331.0511092077688\n",
      "\n",
      "Results for EventName and EventType\n",
      "\tChi-squared:\t13486533.983208315\n",
      "\tP-value:\t0.0\n",
      "\tDoF:\t\t38178\n",
      "\tCrit-value:\t38633.6498352869\n",
      "\tUplift:\t\t349.08775227573994\n",
      "\n",
      "Results for EventName and BookingReference\n",
      "\tChi-squared:\t1197054827.9999816\n",
      "\tP-value:\t0.0\n",
      "\tDoF:\t\t595318644\n",
      "\tCrit-value:\t595375401.818734\n",
      "\tUplift:\t\t2.0105883184680726\n"
     ]
    },
    {
     "ename": "MemoryError",
     "evalue": "Unable to allocate 4.46 GiB for an array with shape (329220, 1819) and data type int64",
     "output_type": "error",
     "traceback": [
      "\u001b[1;31m---------------------------------------------------------------------------\u001b[0m",
      "\u001b[1;31mMemoryError\u001b[0m                               Traceback (most recent call last)",
      "\u001b[1;32mc:\\Users\\KingRemy\\OneDrive - University of Keele\\Documents\\Collaborative App Development\\Coursework\\02_Preprocessing1\\03_corr_chi2.ipynb Cell 9\u001b[0m in \u001b[0;36m<cell line: 27>\u001b[1;34m()\u001b[0m\n\u001b[0;32m     <a href='vscode-notebook-cell:/c%3A/Users/KingRemy/OneDrive%20-%20University%20of%20Keele/Documents/Collaborative%20App%20Development/Coursework/02_Preprocessing1/03_corr_chi2.ipynb#X10sZmlsZQ%3D%3D?line=23'>24</a>\u001b[0m                 results_buffer[(var1, var2)] \u001b[39m=\u001b[39m (res[\u001b[39m0\u001b[39m] \u001b[39m/\u001b[39m chi_squared_crit_value)\n\u001b[0;32m     <a href='vscode-notebook-cell:/c%3A/Users/KingRemy/OneDrive%20-%20University%20of%20Keele/Documents/Collaborative%20App%20Development/Coursework/02_Preprocessing1/03_corr_chi2.ipynb#X10sZmlsZQ%3D%3D?line=24'>25</a>\u001b[0m     \u001b[39mreturn\u001b[39;00m pd\u001b[39m.\u001b[39mSeries(results_buffer,name \u001b[39m=\u001b[39m \u001b[39m'\u001b[39m\u001b[39muplift\u001b[39m\u001b[39m'\u001b[39m)\u001b[39m.\u001b[39msort_values(ascending \u001b[39m=\u001b[39m \u001b[39mFalse\u001b[39;00m)\n\u001b[1;32m---> <a href='vscode-notebook-cell:/c%3A/Users/KingRemy/OneDrive%20-%20University%20of%20Keele/Documents/Collaborative%20App%20Development/Coursework/02_Preprocessing1/03_corr_chi2.ipynb#X10sZmlsZQ%3D%3D?line=26'>27</a>\u001b[0m chi2_all \u001b[39m=\u001b[39m get_chi_squared_all(client_data[var_list_cat])\n",
      "\u001b[1;32mc:\\Users\\KingRemy\\OneDrive - University of Keele\\Documents\\Collaborative App Development\\Coursework\\02_Preprocessing1\\03_corr_chi2.ipynb Cell 9\u001b[0m in \u001b[0;36mget_chi_squared_all\u001b[1;34m(df)\u001b[0m\n\u001b[0;32m     <a href='vscode-notebook-cell:/c%3A/Users/KingRemy/OneDrive%20-%20University%20of%20Keele/Documents/Collaborative%20App%20Development/Coursework/02_Preprocessing1/03_corr_chi2.ipynb#X10sZmlsZQ%3D%3D?line=11'>12</a>\u001b[0m \u001b[39mfor\u001b[39;00m var2 \u001b[39min\u001b[39;00m client_data\u001b[39m.\u001b[39mcolumns\u001b[39m.\u001b[39mvalues:\n\u001b[0;32m     <a href='vscode-notebook-cell:/c%3A/Users/KingRemy/OneDrive%20-%20University%20of%20Keele/Documents/Collaborative%20App%20Development/Coursework/02_Preprocessing1/03_corr_chi2.ipynb#X10sZmlsZQ%3D%3D?line=12'>13</a>\u001b[0m     \u001b[39mif\u001b[39;00m(var1 \u001b[39m!=\u001b[39m var2):\n\u001b[1;32m---> <a href='vscode-notebook-cell:/c%3A/Users/KingRemy/OneDrive%20-%20University%20of%20Keele/Documents/Collaborative%20App%20Development/Coursework/02_Preprocessing1/03_corr_chi2.ipynb#X10sZmlsZQ%3D%3D?line=13'>14</a>\u001b[0m         xtab \u001b[39m=\u001b[39m pd\u001b[39m.\u001b[39;49mcrosstab(client_data[var1],client_data[var2])\n\u001b[0;32m     <a href='vscode-notebook-cell:/c%3A/Users/KingRemy/OneDrive%20-%20University%20of%20Keele/Documents/Collaborative%20App%20Development/Coursework/02_Preprocessing1/03_corr_chi2.ipynb#X10sZmlsZQ%3D%3D?line=14'>15</a>\u001b[0m         res \u001b[39m=\u001b[39m stats\u001b[39m.\u001b[39mchi2_contingency(xtab)\n\u001b[0;32m     <a href='vscode-notebook-cell:/c%3A/Users/KingRemy/OneDrive%20-%20University%20of%20Keele/Documents/Collaborative%20App%20Development/Coursework/02_Preprocessing1/03_corr_chi2.ipynb#X10sZmlsZQ%3D%3D?line=15'>16</a>\u001b[0m         chi_squared_crit_value \u001b[39m=\u001b[39m stats\u001b[39m.\u001b[39mchi2\u001b[39m.\u001b[39mppf(q \u001b[39m=\u001b[39m \u001b[39m0.95\u001b[39m,               \u001b[39m# Find the critical value for 95% confidence \u001b[39;00m\n\u001b[0;32m     <a href='vscode-notebook-cell:/c%3A/Users/KingRemy/OneDrive%20-%20University%20of%20Keele/Documents/Collaborative%20App%20Development/Coursework/02_Preprocessing1/03_corr_chi2.ipynb#X10sZmlsZQ%3D%3D?line=16'>17</a>\u001b[0m                                                 df \u001b[39m=\u001b[39m res[\u001b[39m2\u001b[39m])            \u001b[39m# # Df = number of variable categories - 1\u001b[39;00m\n",
      "File \u001b[1;32mc:\\Users\\KingRemy\\anaconda3\\envs\\elec\\lib\\site-packages\\pandas\\core\\reshape\\pivot.py:670\u001b[0m, in \u001b[0;36mcrosstab\u001b[1;34m(index, columns, values, rownames, colnames, aggfunc, margins, margins_name, dropna, normalize)\u001b[0m\n\u001b[0;32m    667\u001b[0m     df[\u001b[39m\"\u001b[39m\u001b[39m__dummy__\u001b[39m\u001b[39m\"\u001b[39m] \u001b[39m=\u001b[39m values\n\u001b[0;32m    668\u001b[0m     kwargs \u001b[39m=\u001b[39m {\u001b[39m\"\u001b[39m\u001b[39maggfunc\u001b[39m\u001b[39m\"\u001b[39m: aggfunc}\n\u001b[1;32m--> 670\u001b[0m table \u001b[39m=\u001b[39m df\u001b[39m.\u001b[39mpivot_table(\n\u001b[0;32m    671\u001b[0m     \u001b[39m\"\u001b[39m\u001b[39m__dummy__\u001b[39m\u001b[39m\"\u001b[39m,\n\u001b[0;32m    672\u001b[0m     index\u001b[39m=\u001b[39munique_rownames,\n\u001b[0;32m    673\u001b[0m     columns\u001b[39m=\u001b[39munique_colnames,\n\u001b[0;32m    674\u001b[0m     margins\u001b[39m=\u001b[39mmargins,\n\u001b[0;32m    675\u001b[0m     margins_name\u001b[39m=\u001b[39mmargins_name,\n\u001b[0;32m    676\u001b[0m     dropna\u001b[39m=\u001b[39mdropna,\n\u001b[0;32m    677\u001b[0m     \u001b[39m*\u001b[39m\u001b[39m*\u001b[39mkwargs,\n\u001b[0;32m    678\u001b[0m )\n\u001b[0;32m    680\u001b[0m \u001b[39m# Post-process\u001b[39;00m\n\u001b[0;32m    681\u001b[0m \u001b[39mif\u001b[39;00m normalize \u001b[39mis\u001b[39;00m \u001b[39mnot\u001b[39;00m \u001b[39mFalse\u001b[39;00m:\n",
      "File \u001b[1;32mc:\\Users\\KingRemy\\anaconda3\\envs\\elec\\lib\\site-packages\\pandas\\core\\frame.py:8044\u001b[0m, in \u001b[0;36mDataFrame.pivot_table\u001b[1;34m(self, values, index, columns, aggfunc, fill_value, margins, dropna, margins_name, observed, sort)\u001b[0m\n\u001b[0;32m   8027\u001b[0m \u001b[39m@Substitution\u001b[39m(\u001b[39m\"\u001b[39m\u001b[39m\"\u001b[39m)\n\u001b[0;32m   8028\u001b[0m \u001b[39m@Appender\u001b[39m(_shared_docs[\u001b[39m\"\u001b[39m\u001b[39mpivot_table\u001b[39m\u001b[39m\"\u001b[39m])\n\u001b[0;32m   8029\u001b[0m \u001b[39mdef\u001b[39;00m \u001b[39mpivot_table\u001b[39m(\n\u001b[1;32m   (...)\u001b[0m\n\u001b[0;32m   8040\u001b[0m     sort\u001b[39m=\u001b[39m\u001b[39mTrue\u001b[39;00m,\n\u001b[0;32m   8041\u001b[0m ) \u001b[39m-\u001b[39m\u001b[39m>\u001b[39m DataFrame:\n\u001b[0;32m   8042\u001b[0m     \u001b[39mfrom\u001b[39;00m \u001b[39mpandas\u001b[39;00m\u001b[39m.\u001b[39;00m\u001b[39mcore\u001b[39;00m\u001b[39m.\u001b[39;00m\u001b[39mreshape\u001b[39;00m\u001b[39m.\u001b[39;00m\u001b[39mpivot\u001b[39;00m \u001b[39mimport\u001b[39;00m pivot_table\n\u001b[1;32m-> 8044\u001b[0m     \u001b[39mreturn\u001b[39;00m pivot_table(\n\u001b[0;32m   8045\u001b[0m         \u001b[39mself\u001b[39;49m,\n\u001b[0;32m   8046\u001b[0m         values\u001b[39m=\u001b[39;49mvalues,\n\u001b[0;32m   8047\u001b[0m         index\u001b[39m=\u001b[39;49mindex,\n\u001b[0;32m   8048\u001b[0m         columns\u001b[39m=\u001b[39;49mcolumns,\n\u001b[0;32m   8049\u001b[0m         aggfunc\u001b[39m=\u001b[39;49maggfunc,\n\u001b[0;32m   8050\u001b[0m         fill_value\u001b[39m=\u001b[39;49mfill_value,\n\u001b[0;32m   8051\u001b[0m         margins\u001b[39m=\u001b[39;49mmargins,\n\u001b[0;32m   8052\u001b[0m         dropna\u001b[39m=\u001b[39;49mdropna,\n\u001b[0;32m   8053\u001b[0m         margins_name\u001b[39m=\u001b[39;49mmargins_name,\n\u001b[0;32m   8054\u001b[0m         observed\u001b[39m=\u001b[39;49mobserved,\n\u001b[0;32m   8055\u001b[0m         sort\u001b[39m=\u001b[39;49msort,\n\u001b[0;32m   8056\u001b[0m     )\n",
      "File \u001b[1;32mc:\\Users\\KingRemy\\anaconda3\\envs\\elec\\lib\\site-packages\\pandas\\core\\reshape\\pivot.py:95\u001b[0m, in \u001b[0;36mpivot_table\u001b[1;34m(data, values, index, columns, aggfunc, fill_value, margins, dropna, margins_name, observed, sort)\u001b[0m\n\u001b[0;32m     92\u001b[0m     table \u001b[39m=\u001b[39m concat(pieces, keys\u001b[39m=\u001b[39mkeys, axis\u001b[39m=\u001b[39m\u001b[39m1\u001b[39m)\n\u001b[0;32m     93\u001b[0m     \u001b[39mreturn\u001b[39;00m table\u001b[39m.\u001b[39m__finalize__(data, method\u001b[39m=\u001b[39m\u001b[39m\"\u001b[39m\u001b[39mpivot_table\u001b[39m\u001b[39m\"\u001b[39m)\n\u001b[1;32m---> 95\u001b[0m table \u001b[39m=\u001b[39m __internal_pivot_table(\n\u001b[0;32m     96\u001b[0m     data,\n\u001b[0;32m     97\u001b[0m     values,\n\u001b[0;32m     98\u001b[0m     index,\n\u001b[0;32m     99\u001b[0m     columns,\n\u001b[0;32m    100\u001b[0m     aggfunc,\n\u001b[0;32m    101\u001b[0m     fill_value,\n\u001b[0;32m    102\u001b[0m     margins,\n\u001b[0;32m    103\u001b[0m     dropna,\n\u001b[0;32m    104\u001b[0m     margins_name,\n\u001b[0;32m    105\u001b[0m     observed,\n\u001b[0;32m    106\u001b[0m     sort,\n\u001b[0;32m    107\u001b[0m )\n\u001b[0;32m    108\u001b[0m \u001b[39mreturn\u001b[39;00m table\u001b[39m.\u001b[39m__finalize__(data, method\u001b[39m=\u001b[39m\u001b[39m\"\u001b[39m\u001b[39mpivot_table\u001b[39m\u001b[39m\"\u001b[39m)\n",
      "File \u001b[1;32mc:\\Users\\KingRemy\\anaconda3\\envs\\elec\\lib\\site-packages\\pandas\\core\\reshape\\pivot.py:242\u001b[0m, in \u001b[0;36m__internal_pivot_table\u001b[1;34m(data, values, index, columns, aggfunc, fill_value, margins, dropna, margins_name, observed, sort)\u001b[0m\n\u001b[0;32m    240\u001b[0m \u001b[39m# discard the top level\u001b[39;00m\n\u001b[0;32m    241\u001b[0m \u001b[39mif\u001b[39;00m values_passed \u001b[39mand\u001b[39;00m \u001b[39mnot\u001b[39;00m values_multi \u001b[39mand\u001b[39;00m table\u001b[39m.\u001b[39mcolumns\u001b[39m.\u001b[39mnlevels \u001b[39m>\u001b[39m \u001b[39m1\u001b[39m:\n\u001b[1;32m--> 242\u001b[0m     table \u001b[39m=\u001b[39m table\u001b[39m.\u001b[39;49mdroplevel(\u001b[39m0\u001b[39;49m, axis\u001b[39m=\u001b[39;49m\u001b[39m1\u001b[39;49m)\n\u001b[0;32m    243\u001b[0m \u001b[39mif\u001b[39;00m \u001b[39mlen\u001b[39m(index) \u001b[39m==\u001b[39m \u001b[39m0\u001b[39m \u001b[39mand\u001b[39;00m \u001b[39mlen\u001b[39m(columns) \u001b[39m>\u001b[39m \u001b[39m0\u001b[39m:\n\u001b[0;32m    244\u001b[0m     table \u001b[39m=\u001b[39m table\u001b[39m.\u001b[39mT\n",
      "File \u001b[1;32mc:\\Users\\KingRemy\\anaconda3\\envs\\elec\\lib\\site-packages\\pandas\\core\\generic.py:862\u001b[0m, in \u001b[0;36mNDFrame.droplevel\u001b[1;34m(self, level, axis)\u001b[0m\n\u001b[0;32m    860\u001b[0m labels \u001b[39m=\u001b[39m \u001b[39mself\u001b[39m\u001b[39m.\u001b[39m_get_axis(axis)\n\u001b[0;32m    861\u001b[0m new_labels \u001b[39m=\u001b[39m labels\u001b[39m.\u001b[39mdroplevel(level)\n\u001b[1;32m--> 862\u001b[0m \u001b[39mreturn\u001b[39;00m \u001b[39mself\u001b[39;49m\u001b[39m.\u001b[39;49mset_axis(new_labels, axis\u001b[39m=\u001b[39;49maxis, inplace\u001b[39m=\u001b[39;49m\u001b[39mFalse\u001b[39;49;00m)\n",
      "File \u001b[1;32mc:\\Users\\KingRemy\\anaconda3\\envs\\elec\\lib\\site-packages\\pandas\\util\\_decorators.py:311\u001b[0m, in \u001b[0;36mdeprecate_nonkeyword_arguments.<locals>.decorate.<locals>.wrapper\u001b[1;34m(*args, **kwargs)\u001b[0m\n\u001b[0;32m    305\u001b[0m \u001b[39mif\u001b[39;00m \u001b[39mlen\u001b[39m(args) \u001b[39m>\u001b[39m num_allow_args:\n\u001b[0;32m    306\u001b[0m     warnings\u001b[39m.\u001b[39mwarn(\n\u001b[0;32m    307\u001b[0m         msg\u001b[39m.\u001b[39mformat(arguments\u001b[39m=\u001b[39marguments),\n\u001b[0;32m    308\u001b[0m         \u001b[39mFutureWarning\u001b[39;00m,\n\u001b[0;32m    309\u001b[0m         stacklevel\u001b[39m=\u001b[39mstacklevel,\n\u001b[0;32m    310\u001b[0m     )\n\u001b[1;32m--> 311\u001b[0m \u001b[39mreturn\u001b[39;00m func(\u001b[39m*\u001b[39margs, \u001b[39m*\u001b[39m\u001b[39m*\u001b[39mkwargs)\n",
      "File \u001b[1;32mc:\\Users\\KingRemy\\anaconda3\\envs\\elec\\lib\\site-packages\\pandas\\core\\frame.py:4783\u001b[0m, in \u001b[0;36mDataFrame.set_axis\u001b[1;34m(self, labels, axis, inplace)\u001b[0m\n\u001b[0;32m   4742\u001b[0m \u001b[39m@deprecate_nonkeyword_arguments\u001b[39m(version\u001b[39m=\u001b[39m\u001b[39mNone\u001b[39;00m, allowed_args\u001b[39m=\u001b[39m[\u001b[39m\"\u001b[39m\u001b[39mself\u001b[39m\u001b[39m\"\u001b[39m, \u001b[39m\"\u001b[39m\u001b[39mlabels\u001b[39m\u001b[39m\"\u001b[39m])\n\u001b[0;32m   4743\u001b[0m \u001b[39m@Appender\u001b[39m(\n\u001b[0;32m   4744\u001b[0m     \u001b[39m\"\"\"\u001b[39;00m\n\u001b[1;32m   (...)\u001b[0m\n\u001b[0;32m   4781\u001b[0m \u001b[39m@Appender\u001b[39m(NDFrame\u001b[39m.\u001b[39mset_axis\u001b[39m.\u001b[39m\u001b[39m__doc__\u001b[39m)\n\u001b[0;32m   4782\u001b[0m \u001b[39mdef\u001b[39;00m \u001b[39mset_axis\u001b[39m(\u001b[39mself\u001b[39m, labels, axis: Axis \u001b[39m=\u001b[39m \u001b[39m0\u001b[39m, inplace: \u001b[39mbool\u001b[39m \u001b[39m=\u001b[39m \u001b[39mFalse\u001b[39;00m):\n\u001b[1;32m-> 4783\u001b[0m     \u001b[39mreturn\u001b[39;00m \u001b[39msuper\u001b[39;49m()\u001b[39m.\u001b[39;49mset_axis(labels, axis\u001b[39m=\u001b[39;49maxis, inplace\u001b[39m=\u001b[39;49minplace)\n",
      "File \u001b[1;32mc:\\Users\\KingRemy\\anaconda3\\envs\\elec\\lib\\site-packages\\pandas\\core\\generic.py:755\u001b[0m, in \u001b[0;36mNDFrame.set_axis\u001b[1;34m(self, labels, axis, inplace)\u001b[0m\n\u001b[0;32m    728\u001b[0m \u001b[39m\"\"\"\u001b[39;00m\n\u001b[0;32m    729\u001b[0m \u001b[39mAssign desired index to given axis.\u001b[39;00m\n\u001b[0;32m    730\u001b[0m \n\u001b[1;32m   (...)\u001b[0m\n\u001b[0;32m    752\u001b[0m \u001b[39m%(klass)s.rename_axis : Alter the name of the index%(see_also_sub)s.\u001b[39;00m\n\u001b[0;32m    753\u001b[0m \u001b[39m\"\"\"\u001b[39;00m\n\u001b[0;32m    754\u001b[0m \u001b[39mself\u001b[39m\u001b[39m.\u001b[39m_check_inplace_and_allows_duplicate_labels(inplace)\n\u001b[1;32m--> 755\u001b[0m \u001b[39mreturn\u001b[39;00m \u001b[39mself\u001b[39;49m\u001b[39m.\u001b[39;49m_set_axis_nocheck(labels, axis, inplace)\n",
      "File \u001b[1;32mc:\\Users\\KingRemy\\anaconda3\\envs\\elec\\lib\\site-packages\\pandas\\core\\generic.py:763\u001b[0m, in \u001b[0;36mNDFrame._set_axis_nocheck\u001b[1;34m(self, labels, axis, inplace)\u001b[0m\n\u001b[0;32m    761\u001b[0m     \u001b[39msetattr\u001b[39m(\u001b[39mself\u001b[39m, \u001b[39mself\u001b[39m\u001b[39m.\u001b[39m_get_axis_name(axis), labels)\n\u001b[0;32m    762\u001b[0m \u001b[39melse\u001b[39;00m:\n\u001b[1;32m--> 763\u001b[0m     obj \u001b[39m=\u001b[39m \u001b[39mself\u001b[39;49m\u001b[39m.\u001b[39;49mcopy()\n\u001b[0;32m    764\u001b[0m     obj\u001b[39m.\u001b[39mset_axis(labels, axis\u001b[39m=\u001b[39maxis, inplace\u001b[39m=\u001b[39m\u001b[39mTrue\u001b[39;00m)\n\u001b[0;32m    765\u001b[0m     \u001b[39mreturn\u001b[39;00m obj\n",
      "File \u001b[1;32mc:\\Users\\KingRemy\\anaconda3\\envs\\elec\\lib\\site-packages\\pandas\\core\\generic.py:6032\u001b[0m, in \u001b[0;36mNDFrame.copy\u001b[1;34m(self, deep)\u001b[0m\n\u001b[0;32m   5926\u001b[0m \u001b[39m@final\u001b[39m\n\u001b[0;32m   5927\u001b[0m \u001b[39mdef\u001b[39;00m \u001b[39mcopy\u001b[39m(\u001b[39mself\u001b[39m: NDFrameT, deep: bool_t \u001b[39m=\u001b[39m \u001b[39mTrue\u001b[39;00m) \u001b[39m-\u001b[39m\u001b[39m>\u001b[39m NDFrameT:\n\u001b[0;32m   5928\u001b[0m     \u001b[39m\"\"\"\u001b[39;00m\n\u001b[0;32m   5929\u001b[0m \u001b[39m    Make a copy of this object's indices and data.\u001b[39;00m\n\u001b[0;32m   5930\u001b[0m \n\u001b[1;32m   (...)\u001b[0m\n\u001b[0;32m   6030\u001b[0m \u001b[39m    dtype: object\u001b[39;00m\n\u001b[0;32m   6031\u001b[0m \u001b[39m    \"\"\"\u001b[39;00m\n\u001b[1;32m-> 6032\u001b[0m     data \u001b[39m=\u001b[39m \u001b[39mself\u001b[39;49m\u001b[39m.\u001b[39;49m_mgr\u001b[39m.\u001b[39;49mcopy(deep\u001b[39m=\u001b[39;49mdeep)\n\u001b[0;32m   6033\u001b[0m     \u001b[39mself\u001b[39m\u001b[39m.\u001b[39m_clear_item_cache()\n\u001b[0;32m   6034\u001b[0m     \u001b[39mreturn\u001b[39;00m \u001b[39mself\u001b[39m\u001b[39m.\u001b[39m_constructor(data)\u001b[39m.\u001b[39m__finalize__(\u001b[39mself\u001b[39m, method\u001b[39m=\u001b[39m\u001b[39m\"\u001b[39m\u001b[39mcopy\u001b[39m\u001b[39m\"\u001b[39m)\n",
      "File \u001b[1;32mc:\\Users\\KingRemy\\anaconda3\\envs\\elec\\lib\\site-packages\\pandas\\core\\internals\\managers.py:615\u001b[0m, in \u001b[0;36mBaseBlockManager.copy\u001b[1;34m(self, deep)\u001b[0m\n\u001b[0;32m    612\u001b[0m         res\u001b[39m.\u001b[39m_blklocs \u001b[39m=\u001b[39m \u001b[39mself\u001b[39m\u001b[39m.\u001b[39m_blklocs\u001b[39m.\u001b[39mcopy()\n\u001b[0;32m    614\u001b[0m \u001b[39mif\u001b[39;00m deep:\n\u001b[1;32m--> 615\u001b[0m     res\u001b[39m.\u001b[39;49m_consolidate_inplace()\n\u001b[0;32m    616\u001b[0m \u001b[39mreturn\u001b[39;00m res\n",
      "File \u001b[1;32mc:\\Users\\KingRemy\\anaconda3\\envs\\elec\\lib\\site-packages\\pandas\\core\\internals\\managers.py:1685\u001b[0m, in \u001b[0;36mBlockManager._consolidate_inplace\u001b[1;34m(self)\u001b[0m\n\u001b[0;32m   1683\u001b[0m \u001b[39mdef\u001b[39;00m \u001b[39m_consolidate_inplace\u001b[39m(\u001b[39mself\u001b[39m) \u001b[39m-\u001b[39m\u001b[39m>\u001b[39m \u001b[39mNone\u001b[39;00m:\n\u001b[0;32m   1684\u001b[0m     \u001b[39mif\u001b[39;00m \u001b[39mnot\u001b[39;00m \u001b[39mself\u001b[39m\u001b[39m.\u001b[39mis_consolidated():\n\u001b[1;32m-> 1685\u001b[0m         \u001b[39mself\u001b[39m\u001b[39m.\u001b[39mblocks \u001b[39m=\u001b[39m \u001b[39mtuple\u001b[39m(_consolidate(\u001b[39mself\u001b[39;49m\u001b[39m.\u001b[39;49mblocks))\n\u001b[0;32m   1686\u001b[0m         \u001b[39mself\u001b[39m\u001b[39m.\u001b[39m_is_consolidated \u001b[39m=\u001b[39m \u001b[39mTrue\u001b[39;00m\n\u001b[0;32m   1687\u001b[0m         \u001b[39mself\u001b[39m\u001b[39m.\u001b[39m_known_consolidated \u001b[39m=\u001b[39m \u001b[39mTrue\u001b[39;00m\n",
      "File \u001b[1;32mc:\\Users\\KingRemy\\anaconda3\\envs\\elec\\lib\\site-packages\\pandas\\core\\internals\\managers.py:2084\u001b[0m, in \u001b[0;36m_consolidate\u001b[1;34m(blocks)\u001b[0m\n\u001b[0;32m   2082\u001b[0m new_blocks: \u001b[39mlist\u001b[39m[Block] \u001b[39m=\u001b[39m []\n\u001b[0;32m   2083\u001b[0m \u001b[39mfor\u001b[39;00m (_can_consolidate, dtype), group_blocks \u001b[39min\u001b[39;00m grouper:\n\u001b[1;32m-> 2084\u001b[0m     merged_blocks \u001b[39m=\u001b[39m _merge_blocks(\n\u001b[0;32m   2085\u001b[0m         \u001b[39mlist\u001b[39;49m(group_blocks), dtype\u001b[39m=\u001b[39;49mdtype, can_consolidate\u001b[39m=\u001b[39;49m_can_consolidate\n\u001b[0;32m   2086\u001b[0m     )\n\u001b[0;32m   2087\u001b[0m     new_blocks \u001b[39m=\u001b[39m extend_blocks(merged_blocks, new_blocks)\n\u001b[0;32m   2088\u001b[0m \u001b[39mreturn\u001b[39;00m new_blocks\n",
      "File \u001b[1;32mc:\\Users\\KingRemy\\anaconda3\\envs\\elec\\lib\\site-packages\\pandas\\core\\internals\\managers.py:2118\u001b[0m, in \u001b[0;36m_merge_blocks\u001b[1;34m(blocks, dtype, can_consolidate)\u001b[0m\n\u001b[0;32m   2115\u001b[0m     new_values \u001b[39m=\u001b[39m bvals2[\u001b[39m0\u001b[39m]\u001b[39m.\u001b[39m_concat_same_type(bvals2, axis\u001b[39m=\u001b[39m\u001b[39m0\u001b[39m)\n\u001b[0;32m   2117\u001b[0m argsort \u001b[39m=\u001b[39m np\u001b[39m.\u001b[39margsort(new_mgr_locs)\n\u001b[1;32m-> 2118\u001b[0m new_values \u001b[39m=\u001b[39m new_values[argsort]\n\u001b[0;32m   2119\u001b[0m new_mgr_locs \u001b[39m=\u001b[39m new_mgr_locs[argsort]\n\u001b[0;32m   2121\u001b[0m bp \u001b[39m=\u001b[39m BlockPlacement(new_mgr_locs)\n",
      "\u001b[1;31mMemoryError\u001b[0m: Unable to allocate 4.46 GiB for an array with shape (329220, 1819) and data type int64"
     ]
    }
   ],
   "source": [
    "\n",
    "def get_chi_squared_all(df):\n",
    "\n",
    "    ''' \n",
    "    Performs a chi-squared test between all variables in the dataframe\n",
    "    Parameters\n",
    "      df: a dataframe\n",
    "    Returns a dataframe\n",
    "    '''\n",
    "\n",
    "    results_buffer = {}\n",
    "    for var1 in client_data.columns.values:\n",
    "        for var2 in client_data.columns.values:\n",
    "            if(var1 != var2):\n",
    "                xtab = pd.crosstab(client_data[var1],client_data[var2])\n",
    "                res = stats.chi2_contingency(xtab)\n",
    "                chi_squared_crit_value = stats.chi2.ppf(q = 0.95,               # Find the critical value for 95% confidence \n",
    "                                                        df = res[2])            # # Df = number of variable categories - 1\n",
    "                print(f\"\\nResults for {var1} and {var2}\")\n",
    "                print(f\"\\tChi-squared:\\t{res[0]}\")\n",
    "                print(f\"\\tP-value:\\t{res[1]}\")\n",
    "                print(f\"\\tDoF:\\t\\t{res[2]}\")\n",
    "                print(f\"\\tCrit-value:\\t{chi_squared_crit_value}\")\n",
    "                print(f\"\\tUplift:\\t\\t{res[0] / chi_squared_crit_value}\")\n",
    "                results_buffer[(var1, var2)] = (res[0] / chi_squared_crit_value)\n",
    "    return pd.Series(results_buffer,name = 'uplift').sort_values(ascending = False)\n",
    "\n",
    "chi2_all = get_chi_squared_all(client_data[var_list_cat])"
   ]
  },
  {
   "cell_type": "code",
   "execution_count": 57,
   "metadata": {},
   "outputs": [
    {
     "name": "stdout",
     "output_type": "stream",
     "text": [
      "\n",
      "Results for StartDate and EventName\n",
      "\tChi-squared:\t89267013.59032354\n",
      "\tP-value:\t0.0\n",
      "\tDoF:\t\t184392\n",
      "\tCrit-value:\t185392.0156771957\n",
      "\tUplift:\t\t481.504088858687\n",
      "\n",
      "Results for StartDate and StartDate\n",
      "\tChi-squared:\t96919272.0\n",
      "\tP-value:\t0.0\n",
      "\tDoF:\t\t155236\n",
      "\tCrit-value:\t156153.64829669512\n",
      "\tUplift:\t\t620.666075094521\n",
      "\n",
      "Results for StartDate and BookingReference\n",
      "\tChi-squared:\t96919272.00000057\n",
      "\tP-value:\t0.0\n",
      "\tDoF:\t\t96225832\n",
      "\tCrit-value:\t96248651.68950678\n",
      "\tUplift:\t\t1.0069675813502008\n",
      "\n",
      "Results for StartDate and AttendeeReference\n",
      "\tChi-squared:\t96919272.00000794\n",
      "\tP-value:\t0.46615214193936516\n",
      "\tDoF:\t\t96918090\n",
      "\tCrit-value:\t96940991.62185754\n",
      "\tUplift:\t\t0.9997759500755437\n",
      "\n",
      "Results for StartDate and IsLeadAttendee\n",
      "\tChi-squared:\t412430.13254552335\n",
      "\tP-value:\t0.0\n",
      "\tDoF:\t\t1576\n",
      "\tCrit-value:\t1669.4694556353525\n",
      "\tUplift:\t\t247.04263450484285\n",
      "\n",
      "Results for StartDate and BookingStatus\n",
      "\tChi-squared:\t4983.089681898183\n",
      "\tP-value:\t0.0\n",
      "\tDoF:\t\t786\n",
      "\tCrit-value:\t852.332985749568\n",
      "\tUplift:\t\t5.846411866268322\n",
      "\n",
      "Results for StartDate and AttendeeType\n",
      "\tChi-squared:\t246780.11149169778\n",
      "\tP-value:\t0.0\n",
      "\tDoF:\t\t1182\n",
      "\tCrit-value:\t1263.095184789468\n",
      "\tUplift:\t\t195.37728784298307\n",
      "\n",
      "Results for StartDate and StatusCreatedDate\n",
      "\tChi-squared:\t17076014.630872175\n",
      "\tP-value:\t0.0\n",
      "\tDoF:\t\t440098\n",
      "\tCrit-value:\t441642.3174925886\n",
      "\tUplift:\t\t38.66480623464878\n"
     ]
    }
   ],
   "source": [
    "#Function to run a series of chi-squared independance tests for all the\n",
    "#features against the target\n",
    "def get_chi_squared_target(df,target,feature_list):\n",
    "    \n",
    "    ''' \n",
    "    Performs a chi-squared test between specified variables in the dataframe\n",
    "    Parameters\n",
    "      df: a dataframe\n",
    "      target: string, a variable you want to be in every chi-squared\n",
    "      feature_list: list, the other variables you want to test the target with\n",
    "    Returns a dataframe\n",
    "    '''\n",
    "    \n",
    "    results_buffer = {}\n",
    "    for var in feature_list:\n",
    "        xtab = pd.crosstab(df[target],df[var])\n",
    "        res = stats.chi2_contingency(xtab)\n",
    "        chi_squred_crit_value = stats.chi2.ppf(q = 0.95,df = res[2])\n",
    "        print(f\"\\nResults for {target} and {var}\")\n",
    "        print(f\"\\tChi-squared:\\t{res[0]}\")\n",
    "        print(f\"\\tP-value:\\t{res[1]}\")\n",
    "        print(f\"\\tDoF:\\t\\t{res[2]}\")\n",
    "        print(f\"\\tCrit-value:\\t{chi_squred_crit_value}\")\n",
    "        print(f\"\\tUplift:\\t\\t{res[0] / chi_squred_crit_value}\")\n",
    "        results_buffer[var] = (res[0] / chi_squred_crit_value)\n",
    "    return pd.Series(results_buffer, name = 'uplift').sort_values(ascending = False)\n",
    "\n",
    "\n",
    "chi2_target = get_chi_squared_target(data,'StartDate',var_list_cat)"
   ]
  },
  {
   "cell_type": "code",
   "execution_count": null,
   "metadata": {},
   "outputs": [],
   "source": []
  }
 ],
 "metadata": {
  "kernelspec": {
   "display_name": "Python 3.10.4 ('elec')",
   "language": "python",
   "name": "python3"
  },
  "language_info": {
   "codemirror_mode": {
    "name": "ipython",
    "version": 3
   },
   "file_extension": ".py",
   "mimetype": "text/x-python",
   "name": "python",
   "nbconvert_exporter": "python",
   "pygments_lexer": "ipython3",
   "version": "3.10.4"
  },
  "orig_nbformat": 4,
  "vscode": {
   "interpreter": {
    "hash": "a03df1490dae5edca8350f1d64d7f189571412bea11a20357ccabc9e7f68ebdc"
   }
  }
 },
 "nbformat": 4,
 "nbformat_minor": 2
}
